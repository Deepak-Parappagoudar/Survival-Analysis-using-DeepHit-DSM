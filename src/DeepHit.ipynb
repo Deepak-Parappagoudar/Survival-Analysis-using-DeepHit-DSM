{
 "cells": [
  {
   "cell_type": "markdown",
   "metadata": {},
   "source": [
    "Install necessary Packages"
   ]
  },
  {
   "cell_type": "code",
   "execution_count": null,
   "metadata": {},
   "outputs": [],
   "source": [
    "pip install pycox auton_survival"
   ]
  },
  {
   "cell_type": "markdown",
   "metadata": {},
   "source": [
    "Import required libraries"
   ]
  },
  {
   "cell_type": "code",
   "execution_count": null,
   "metadata": {},
   "outputs": [],
   "source": [
    "import pandas as pd\n",
    "import numpy as np\n",
    "from sklearn.preprocessing import OneHotEncoder, LabelEncoder\n",
    "from pycox.models import DeepHitSingle\n",
    "from pycox.evaluation import EvalSurv\n",
    "import torch  \n",
    "import torchtuples as tt \n",
    "from matplotlib import pyplot as plt"
   ]
  },
  {
   "cell_type": "code",
   "execution_count": 1,
   "metadata": {
    "id": "U4uvoy70cZJB"
   },
   "outputs": [],
   "source": [
    "# Read the dataset\n",
    "\n",
    "data = pd. read_csv('bpic.csv')"
   ]
  },
  {
   "cell_type": "markdown",
   "metadata": {},
   "source": [
    "Data Pre-Processing"
   ]
  },
  {
   "cell_type": "code",
   "execution_count": 2,
   "metadata": {
    "id": "f04avj6_ctcp"
   },
   "outputs": [],
   "source": [
    "\n",
    "data.rename(columns={'Unnamed: 0': 'Case ID', 'time:timestamp' : 'Complete Timestamp', 'concept:name': 'Activity', 'case:ApplicationType' : 'ApplicationType',  'case:LoanGoal': 'LoanGoal', 'case:RequestedAmount' : 'RequestedAmount', 'org:resource': 'user' }, inplace=True)"
   ]
  },
  {
   "cell_type": "code",
   "execution_count": 3,
   "metadata": {
    "id": "sLrUPX_gSNeZ"
   },
   "outputs": [],
   "source": [
    "#Format for deephit. lable=1 => event happens, label=0=> event doesn't happen\n",
    "\n",
    "data.loc[:, 'label'] = 1"
   ]
  },
  {
   "cell_type": "code",
   "execution_count": 4,
   "metadata": {
    "id": "uIyW_TuX7qju"
   },
   "outputs": [],
   "source": [
    "data.drop(columns=['EventID','OfferID'], inplace=True)"
   ]
  },
  {
   "cell_type": "code",
   "execution_count": 6,
   "metadata": {
    "colab": {
     "base_uri": "https://localhost:8080/",
     "height": 461
    },
    "id": "_Rmn7IxIcqxe",
    "outputId": "2c6f5eab-c9f8-4a7f-85ea-e7f7ef9661e3"
   },
   "outputs": [
    {
     "data": {
      "text/html": [
       "<div>\n",
       "<style scoped>\n",
       "    .dataframe tbody tr th:only-of-type {\n",
       "        vertical-align: middle;\n",
       "    }\n",
       "\n",
       "    .dataframe tbody tr th {\n",
       "        vertical-align: top;\n",
       "    }\n",
       "\n",
       "    .dataframe thead th {\n",
       "        text-align: right;\n",
       "    }\n",
       "</style>\n",
       "<table border=\"1\" class=\"dataframe\">\n",
       "  <thead>\n",
       "    <tr style=\"text-align: right;\">\n",
       "      <th></th>\n",
       "      <th>Case ID</th>\n",
       "      <th>Action</th>\n",
       "      <th>user</th>\n",
       "      <th>Activity</th>\n",
       "      <th>EventOrigin</th>\n",
       "      <th>lifecycle:transition</th>\n",
       "      <th>Complete Timestamp</th>\n",
       "      <th>LoanGoal</th>\n",
       "      <th>ApplicationType</th>\n",
       "      <th>case:concept:name</th>\n",
       "      <th>RequestedAmount</th>\n",
       "      <th>FirstWithdrawalAmount</th>\n",
       "      <th>NumberOfTerms</th>\n",
       "      <th>Accepted</th>\n",
       "      <th>MonthlyCost</th>\n",
       "      <th>Selected</th>\n",
       "      <th>CreditScore</th>\n",
       "      <th>OfferedAmount</th>\n",
       "      <th>label</th>\n",
       "    </tr>\n",
       "  </thead>\n",
       "  <tbody>\n",
       "    <tr>\n",
       "      <th>0</th>\n",
       "      <td>0</td>\n",
       "      <td>Created</td>\n",
       "      <td>User_1</td>\n",
       "      <td>A_Create Application</td>\n",
       "      <td>Application</td>\n",
       "      <td>complete</td>\n",
       "      <td>2016-01-01 09:51:15.304000+00:00</td>\n",
       "      <td>Existing loan takeover</td>\n",
       "      <td>New credit</td>\n",
       "      <td>Application_652823628</td>\n",
       "      <td>20000.0</td>\n",
       "      <td>NaN</td>\n",
       "      <td>NaN</td>\n",
       "      <td>NaN</td>\n",
       "      <td>NaN</td>\n",
       "      <td>NaN</td>\n",
       "      <td>NaN</td>\n",
       "      <td>NaN</td>\n",
       "      <td>1</td>\n",
       "    </tr>\n",
       "    <tr>\n",
       "      <th>1</th>\n",
       "      <td>1</td>\n",
       "      <td>statechange</td>\n",
       "      <td>User_1</td>\n",
       "      <td>A_Submitted</td>\n",
       "      <td>Application</td>\n",
       "      <td>complete</td>\n",
       "      <td>2016-01-01 09:51:15.352000+00:00</td>\n",
       "      <td>Existing loan takeover</td>\n",
       "      <td>New credit</td>\n",
       "      <td>Application_652823628</td>\n",
       "      <td>20000.0</td>\n",
       "      <td>NaN</td>\n",
       "      <td>NaN</td>\n",
       "      <td>NaN</td>\n",
       "      <td>NaN</td>\n",
       "      <td>NaN</td>\n",
       "      <td>NaN</td>\n",
       "      <td>NaN</td>\n",
       "      <td>1</td>\n",
       "    </tr>\n",
       "    <tr>\n",
       "      <th>2</th>\n",
       "      <td>2</td>\n",
       "      <td>Created</td>\n",
       "      <td>User_1</td>\n",
       "      <td>W_Handle leads</td>\n",
       "      <td>Workflow</td>\n",
       "      <td>schedule</td>\n",
       "      <td>2016-01-01 09:51:15.774000+00:00</td>\n",
       "      <td>Existing loan takeover</td>\n",
       "      <td>New credit</td>\n",
       "      <td>Application_652823628</td>\n",
       "      <td>20000.0</td>\n",
       "      <td>NaN</td>\n",
       "      <td>NaN</td>\n",
       "      <td>NaN</td>\n",
       "      <td>NaN</td>\n",
       "      <td>NaN</td>\n",
       "      <td>NaN</td>\n",
       "      <td>NaN</td>\n",
       "      <td>1</td>\n",
       "    </tr>\n",
       "    <tr>\n",
       "      <th>3</th>\n",
       "      <td>3</td>\n",
       "      <td>Deleted</td>\n",
       "      <td>User_1</td>\n",
       "      <td>W_Handle leads</td>\n",
       "      <td>Workflow</td>\n",
       "      <td>withdraw</td>\n",
       "      <td>2016-01-01 09:52:36.392000+00:00</td>\n",
       "      <td>Existing loan takeover</td>\n",
       "      <td>New credit</td>\n",
       "      <td>Application_652823628</td>\n",
       "      <td>20000.0</td>\n",
       "      <td>NaN</td>\n",
       "      <td>NaN</td>\n",
       "      <td>NaN</td>\n",
       "      <td>NaN</td>\n",
       "      <td>NaN</td>\n",
       "      <td>NaN</td>\n",
       "      <td>NaN</td>\n",
       "      <td>1</td>\n",
       "    </tr>\n",
       "    <tr>\n",
       "      <th>4</th>\n",
       "      <td>4</td>\n",
       "      <td>Created</td>\n",
       "      <td>User_1</td>\n",
       "      <td>W_Complete application</td>\n",
       "      <td>Workflow</td>\n",
       "      <td>schedule</td>\n",
       "      <td>2016-01-01 09:52:36.403000+00:00</td>\n",
       "      <td>Existing loan takeover</td>\n",
       "      <td>New credit</td>\n",
       "      <td>Application_652823628</td>\n",
       "      <td>20000.0</td>\n",
       "      <td>NaN</td>\n",
       "      <td>NaN</td>\n",
       "      <td>NaN</td>\n",
       "      <td>NaN</td>\n",
       "      <td>NaN</td>\n",
       "      <td>NaN</td>\n",
       "      <td>NaN</td>\n",
       "      <td>1</td>\n",
       "    </tr>\n",
       "  </tbody>\n",
       "</table>\n",
       "</div>"
      ],
      "text/plain": [
       "   Case ID       Action    user                Activity  EventOrigin  \\\n",
       "0        0      Created  User_1    A_Create Application  Application   \n",
       "1        1  statechange  User_1             A_Submitted  Application   \n",
       "2        2      Created  User_1          W_Handle leads     Workflow   \n",
       "3        3      Deleted  User_1          W_Handle leads     Workflow   \n",
       "4        4      Created  User_1  W_Complete application     Workflow   \n",
       "\n",
       "  lifecycle:transition                Complete Timestamp  \\\n",
       "0             complete  2016-01-01 09:51:15.304000+00:00   \n",
       "1             complete  2016-01-01 09:51:15.352000+00:00   \n",
       "2             schedule  2016-01-01 09:51:15.774000+00:00   \n",
       "3             withdraw  2016-01-01 09:52:36.392000+00:00   \n",
       "4             schedule  2016-01-01 09:52:36.403000+00:00   \n",
       "\n",
       "                 LoanGoal ApplicationType      case:concept:name  \\\n",
       "0  Existing loan takeover      New credit  Application_652823628   \n",
       "1  Existing loan takeover      New credit  Application_652823628   \n",
       "2  Existing loan takeover      New credit  Application_652823628   \n",
       "3  Existing loan takeover      New credit  Application_652823628   \n",
       "4  Existing loan takeover      New credit  Application_652823628   \n",
       "\n",
       "   RequestedAmount  FirstWithdrawalAmount  NumberOfTerms Accepted  \\\n",
       "0          20000.0                    NaN            NaN      NaN   \n",
       "1          20000.0                    NaN            NaN      NaN   \n",
       "2          20000.0                    NaN            NaN      NaN   \n",
       "3          20000.0                    NaN            NaN      NaN   \n",
       "4          20000.0                    NaN            NaN      NaN   \n",
       "\n",
       "   MonthlyCost Selected  CreditScore  OfferedAmount  label  \n",
       "0          NaN      NaN          NaN            NaN      1  \n",
       "1          NaN      NaN          NaN            NaN      1  \n",
       "2          NaN      NaN          NaN            NaN      1  \n",
       "3          NaN      NaN          NaN            NaN      1  \n",
       "4          NaN      NaN          NaN            NaN      1  "
      ]
     },
     "execution_count": 6,
     "metadata": {},
     "output_type": "execute_result"
    }
   ],
   "source": [
    "data.head()"
   ]
  },
  {
   "cell_type": "code",
   "execution_count": 7,
   "metadata": {
    "id": "13_NrHzraGSZ"
   },
   "outputs": [],
   "source": [
    "# Sort the data by \"application_id\" and \"timestamp\" in increasing order\n",
    "data = data.sort_values(by=[\"case:concept:name\", \"Complete Timestamp\"])\n"
   ]
  },
  {
   "cell_type": "code",
   "execution_count": 8,
   "metadata": {
    "id": "bui06mooaGPy"
   },
   "outputs": [],
   "source": [
    "# Re-arrange dataframe\n",
    "\n",
    "temp_col = data['case:concept:name']\n",
    "\n",
    "data.drop(columns=['case:concept:name'], inplace=True)\n",
    "\n",
    "data.insert(1, 'case:concept:name', temp_col)"
   ]
  },
  {
   "cell_type": "code",
   "execution_count": 9,
   "metadata": {
    "colab": {
     "base_uri": "https://localhost:8080/",
     "height": 374
    },
    "id": "RC9LfXDaG-jO",
    "outputId": "86dd27c3-712b-46c8-cb6f-19a8966d7fd7"
   },
   "outputs": [
    {
     "data": {
      "text/html": [
       "<div>\n",
       "<style scoped>\n",
       "    .dataframe tbody tr th:only-of-type {\n",
       "        vertical-align: middle;\n",
       "    }\n",
       "\n",
       "    .dataframe tbody tr th {\n",
       "        vertical-align: top;\n",
       "    }\n",
       "\n",
       "    .dataframe thead th {\n",
       "        text-align: right;\n",
       "    }\n",
       "</style>\n",
       "<table border=\"1\" class=\"dataframe\">\n",
       "  <thead>\n",
       "    <tr style=\"text-align: right;\">\n",
       "      <th></th>\n",
       "      <th>Case ID</th>\n",
       "      <th>case:concept:name</th>\n",
       "      <th>Action</th>\n",
       "      <th>user</th>\n",
       "      <th>Activity</th>\n",
       "      <th>EventOrigin</th>\n",
       "      <th>lifecycle:transition</th>\n",
       "      <th>Complete Timestamp</th>\n",
       "      <th>LoanGoal</th>\n",
       "      <th>ApplicationType</th>\n",
       "      <th>RequestedAmount</th>\n",
       "      <th>FirstWithdrawalAmount</th>\n",
       "      <th>NumberOfTerms</th>\n",
       "      <th>Accepted</th>\n",
       "      <th>MonthlyCost</th>\n",
       "      <th>Selected</th>\n",
       "      <th>CreditScore</th>\n",
       "      <th>OfferedAmount</th>\n",
       "      <th>label</th>\n",
       "    </tr>\n",
       "  </thead>\n",
       "  <tbody>\n",
       "    <tr>\n",
       "      <th>686058</th>\n",
       "      <td>686058</td>\n",
       "      <td>Application_1000086665</td>\n",
       "      <td>Created</td>\n",
       "      <td>User_1</td>\n",
       "      <td>A_Create Application</td>\n",
       "      <td>Application</td>\n",
       "      <td>complete</td>\n",
       "      <td>2016-08-03 15:57:21.673000+00:00</td>\n",
       "      <td>Other, see explanation</td>\n",
       "      <td>New credit</td>\n",
       "      <td>5000.0</td>\n",
       "      <td>NaN</td>\n",
       "      <td>NaN</td>\n",
       "      <td>NaN</td>\n",
       "      <td>NaN</td>\n",
       "      <td>NaN</td>\n",
       "      <td>NaN</td>\n",
       "      <td>NaN</td>\n",
       "      <td>1</td>\n",
       "    </tr>\n",
       "    <tr>\n",
       "      <th>686059</th>\n",
       "      <td>686059</td>\n",
       "      <td>Application_1000086665</td>\n",
       "      <td>statechange</td>\n",
       "      <td>User_1</td>\n",
       "      <td>A_Submitted</td>\n",
       "      <td>Application</td>\n",
       "      <td>complete</td>\n",
       "      <td>2016-08-03 15:57:21.734000+00:00</td>\n",
       "      <td>Other, see explanation</td>\n",
       "      <td>New credit</td>\n",
       "      <td>5000.0</td>\n",
       "      <td>NaN</td>\n",
       "      <td>NaN</td>\n",
       "      <td>NaN</td>\n",
       "      <td>NaN</td>\n",
       "      <td>NaN</td>\n",
       "      <td>NaN</td>\n",
       "      <td>NaN</td>\n",
       "      <td>1</td>\n",
       "    </tr>\n",
       "    <tr>\n",
       "      <th>686060</th>\n",
       "      <td>686060</td>\n",
       "      <td>Application_1000086665</td>\n",
       "      <td>Created</td>\n",
       "      <td>User_1</td>\n",
       "      <td>W_Handle leads</td>\n",
       "      <td>Workflow</td>\n",
       "      <td>schedule</td>\n",
       "      <td>2016-08-03 15:57:21.963000+00:00</td>\n",
       "      <td>Other, see explanation</td>\n",
       "      <td>New credit</td>\n",
       "      <td>5000.0</td>\n",
       "      <td>NaN</td>\n",
       "      <td>NaN</td>\n",
       "      <td>NaN</td>\n",
       "      <td>NaN</td>\n",
       "      <td>NaN</td>\n",
       "      <td>NaN</td>\n",
       "      <td>NaN</td>\n",
       "      <td>1</td>\n",
       "    </tr>\n",
       "    <tr>\n",
       "      <th>686061</th>\n",
       "      <td>686061</td>\n",
       "      <td>Application_1000086665</td>\n",
       "      <td>Deleted</td>\n",
       "      <td>User_1</td>\n",
       "      <td>W_Handle leads</td>\n",
       "      <td>Workflow</td>\n",
       "      <td>withdraw</td>\n",
       "      <td>2016-08-03 15:58:28.286000+00:00</td>\n",
       "      <td>Other, see explanation</td>\n",
       "      <td>New credit</td>\n",
       "      <td>5000.0</td>\n",
       "      <td>NaN</td>\n",
       "      <td>NaN</td>\n",
       "      <td>NaN</td>\n",
       "      <td>NaN</td>\n",
       "      <td>NaN</td>\n",
       "      <td>NaN</td>\n",
       "      <td>NaN</td>\n",
       "      <td>1</td>\n",
       "    </tr>\n",
       "    <tr>\n",
       "      <th>686062</th>\n",
       "      <td>686062</td>\n",
       "      <td>Application_1000086665</td>\n",
       "      <td>Created</td>\n",
       "      <td>User_1</td>\n",
       "      <td>W_Complete application</td>\n",
       "      <td>Workflow</td>\n",
       "      <td>schedule</td>\n",
       "      <td>2016-08-03 15:58:28.293000+00:00</td>\n",
       "      <td>Other, see explanation</td>\n",
       "      <td>New credit</td>\n",
       "      <td>5000.0</td>\n",
       "      <td>NaN</td>\n",
       "      <td>NaN</td>\n",
       "      <td>NaN</td>\n",
       "      <td>NaN</td>\n",
       "      <td>NaN</td>\n",
       "      <td>NaN</td>\n",
       "      <td>NaN</td>\n",
       "      <td>1</td>\n",
       "    </tr>\n",
       "  </tbody>\n",
       "</table>\n",
       "</div>"
      ],
      "text/plain": [
       "        Case ID       case:concept:name       Action    user  \\\n",
       "686058   686058  Application_1000086665      Created  User_1   \n",
       "686059   686059  Application_1000086665  statechange  User_1   \n",
       "686060   686060  Application_1000086665      Created  User_1   \n",
       "686061   686061  Application_1000086665      Deleted  User_1   \n",
       "686062   686062  Application_1000086665      Created  User_1   \n",
       "\n",
       "                      Activity  EventOrigin lifecycle:transition  \\\n",
       "686058    A_Create Application  Application             complete   \n",
       "686059             A_Submitted  Application             complete   \n",
       "686060          W_Handle leads     Workflow             schedule   \n",
       "686061          W_Handle leads     Workflow             withdraw   \n",
       "686062  W_Complete application     Workflow             schedule   \n",
       "\n",
       "                      Complete Timestamp                LoanGoal  \\\n",
       "686058  2016-08-03 15:57:21.673000+00:00  Other, see explanation   \n",
       "686059  2016-08-03 15:57:21.734000+00:00  Other, see explanation   \n",
       "686060  2016-08-03 15:57:21.963000+00:00  Other, see explanation   \n",
       "686061  2016-08-03 15:58:28.286000+00:00  Other, see explanation   \n",
       "686062  2016-08-03 15:58:28.293000+00:00  Other, see explanation   \n",
       "\n",
       "       ApplicationType  RequestedAmount  FirstWithdrawalAmount  NumberOfTerms  \\\n",
       "686058      New credit           5000.0                    NaN            NaN   \n",
       "686059      New credit           5000.0                    NaN            NaN   \n",
       "686060      New credit           5000.0                    NaN            NaN   \n",
       "686061      New credit           5000.0                    NaN            NaN   \n",
       "686062      New credit           5000.0                    NaN            NaN   \n",
       "\n",
       "       Accepted  MonthlyCost Selected  CreditScore  OfferedAmount  label  \n",
       "686058      NaN          NaN      NaN          NaN            NaN      1  \n",
       "686059      NaN          NaN      NaN          NaN            NaN      1  \n",
       "686060      NaN          NaN      NaN          NaN            NaN      1  \n",
       "686061      NaN          NaN      NaN          NaN            NaN      1  \n",
       "686062      NaN          NaN      NaN          NaN            NaN      1  "
      ]
     },
     "execution_count": 9,
     "metadata": {},
     "output_type": "execute_result"
    }
   ],
   "source": [
    "data.head()"
   ]
  },
  {
   "cell_type": "markdown",
   "metadata": {},
   "source": [
    "Feature Engineering"
   ]
  },
  {
   "cell_type": "code",
   "execution_count": 10,
   "metadata": {
    "id": "WJ8btcC5G-gT"
   },
   "outputs": [],
   "source": [
    "#Create a new fetaure 'duration'\n",
    "\n",
    "data['Complete Timestamp']=pd.to_datetime(data['Complete Timestamp'])\n",
    "\n",
    "grouped_df = data.groupby('case:concept:name')\n",
    "\n",
    "\n",
    "# Add a new column with the timestamp of the previous row\n",
    "data['prev_timestamp'] = grouped_df['Complete Timestamp'].shift(1)\n",
    "\n",
    "# Calculate the duration by subtracting the previous timestamp from the current timestamp\n",
    "data['duration'] = data['Complete Timestamp'] - data['prev_timestamp']\n",
    "\n",
    "data['duration']=data['duration'].dt.total_seconds()\n",
    "\n",
    "\n",
    "# Drop the temporary column\n",
    "data.drop(columns=['prev_timestamp'], inplace=True)\n",
    "\n",
    "data['duration']=data['duration'].fillna(0)"
   ]
  },
  {
   "cell_type": "code",
   "execution_count": 11,
   "metadata": {
    "colab": {
     "base_uri": "https://localhost:8080/"
    },
    "id": "0nOLrkm8G-dY",
    "outputId": "4cbf8ee2-47e9-4bc6-e6a2-1f8a4af5f7b5"
   },
   "outputs": [
    {
     "data": {
      "text/plain": [
       "686058         0.000\n",
       "686059         0.061\n",
       "686060         0.229\n",
       "686061        66.323\n",
       "686062         0.007\n",
       "             ...    \n",
       "918295     70493.678\n",
       "918296       150.855\n",
       "918297    338550.389\n",
       "918298         0.003\n",
       "918299         0.002\n",
       "Name: duration, Length: 1202267, dtype: float64"
      ]
     },
     "execution_count": 11,
     "metadata": {},
     "output_type": "execute_result"
    }
   ],
   "source": [
    "data['duration']"
   ]
  },
  {
   "cell_type": "code",
   "execution_count": 12,
   "metadata": {
    "id": "Y4NJ3O7u_BOw"
   },
   "outputs": [],
   "source": [
    "cat_feats = ['Action','Activity', 'EventOrigin', 'lifecycle:transition', 'LoanGoal', 'ApplicationType', 'Accepted', 'Selected']       # categorical_features\n",
    "num_feats = ['RequestedAmount', 'FirstWithdrawalAmount', 'NumberOfTerms', 'MonthlyCost', 'CreditScore', 'OfferedAmount', 'duration']  # numerical_features\n",
    "cat_int_encoding= ['case:concept:name']                                                                                               # unique identifier(int)"
   ]
  },
  {
   "cell_type": "code",
   "execution_count": 13,
   "metadata": {
    "id": "Kq8sCa2m_EUj"
   },
   "outputs": [],
   "source": [
    "#Fill missing values with 0\n",
    "\n",
    "null_counts = data.isnull().sum()\n",
    "null_columns = null_counts[null_counts > 0].index\n",
    "\n",
    "for i in null_columns:\n",
    "  if i in num_feats:\n",
    "    data[i].fillna(0, inplace=True)    "
   ]
  },
  {
   "cell_type": "code",
   "execution_count": 15,
   "metadata": {
    "id": "pSNQk9iwZAGO"
   },
   "outputs": [],
   "source": [
    "# Enocde the features to numerical representations \n",
    "\n",
    "\n",
    "# Now, let's one hot encode the cat_feats\n",
    "one_hot_encoder = OneHotEncoder()\n",
    "one_hot_features = one_hot_encoder.fit_transform(data[cat_feats])\n",
    "\n",
    "# The above line returns a sparse matrix, so we can convert it to a dense numpy array\n",
    "one_hot_features = one_hot_features.toarray()\n",
    "\n",
    "# Now, let's integer encode the cat_int_encoding feature\n",
    "label_encoder = LabelEncoder()\n",
    "int_feature = label_encoder.fit_transform(data['case:concept:name'])\n",
    "\n",
    "# Now, let's concatenate the one hot encoded features and the integer encoded feature, along with the numerical features\n",
    "final_features = np.concatenate((one_hot_features, int_feature.reshape(-1, 1)), axis=1)\n",
    "final_features = np.concatenate((final_features, data[num_feats].values), axis=1)\n",
    "\n",
    "# final_features is now a numpy array that contains all of the encoded features\n"
   ]
  },
  {
   "cell_type": "code",
   "execution_count": 16,
   "metadata": {
    "colab": {
     "base_uri": "https://localhost:8080/"
    },
    "id": "xs0QsDbQZADk",
    "outputId": "4677436d-bc5e-47bb-84c6-33da27687b21",
    "scrolled": true
   },
   "outputs": [],
   "source": [
    "# Create a pandas DataFrame from the array\n",
    "\n",
    "df_final = pd.DataFrame()\n",
    "\n",
    "# Next, let's add the one hot encoded features to the DataFrame\n",
    "one_hot_columns = []\n",
    "for i, col in enumerate(cat_feats):\n",
    "    one_hot_columns += [f\"{col}_{c}\" for c in one_hot_encoder.categories_[i]]\n",
    "df_final[one_hot_columns] = pd.DataFrame(one_hot_features)\n",
    "\n",
    "# Now, let's add the integer encoded feature to the DataFrame\n",
    "df_final['case:concept:name'] = int_feature\n",
    "\n",
    "# Finally, let's add the numerical features to the DataFrame\n",
    "df_final[num_feats] = data[num_feats]\n",
    "\n",
    "# Now, df_final is a DataFrame with the original column names and the encoded features\n",
    "\n",
    "# Reorder the columns to make 'case:concept:name' the first column\n",
    "df_final = df_final[['case:concept:name'] + one_hot_columns + num_feats]\n",
    "\n",
    "# The DataFrame now has 'case:concept:name' as the first column\n"
   ]
  },
  {
   "cell_type": "code",
   "execution_count": 17,
   "metadata": {
    "id": "mXodbC4O5Hv-"
   },
   "outputs": [],
   "source": [
    "# The Time duration, 'duration' is our target variable\n",
    "duration=df_final['duration'].values\n",
    "df_final.drop('duration', axis=1, inplace=True)"
   ]
  },
  {
   "cell_type": "code",
   "execution_count": 18,
   "metadata": {
    "colab": {
     "base_uri": "https://localhost:8080/",
     "height": 488
    },
    "id": "-8tHjzW45Hte",
    "outputId": "fe09bab3-c84c-47d3-84d1-7c4ce97db058"
   },
   "outputs": [
    {
     "data": {
      "text/html": [
       "<div>\n",
       "<style scoped>\n",
       "    .dataframe tbody tr th:only-of-type {\n",
       "        vertical-align: middle;\n",
       "    }\n",
       "\n",
       "    .dataframe tbody tr th {\n",
       "        vertical-align: top;\n",
       "    }\n",
       "\n",
       "    .dataframe thead th {\n",
       "        text-align: right;\n",
       "    }\n",
       "</style>\n",
       "<table border=\"1\" class=\"dataframe\">\n",
       "  <thead>\n",
       "    <tr style=\"text-align: right;\">\n",
       "      <th></th>\n",
       "      <th>case:concept:name</th>\n",
       "      <th>Action_Created</th>\n",
       "      <th>Action_Deleted</th>\n",
       "      <th>Action_Obtained</th>\n",
       "      <th>Action_Released</th>\n",
       "      <th>Action_statechange</th>\n",
       "      <th>Activity_A_Accepted</th>\n",
       "      <th>Activity_A_Cancelled</th>\n",
       "      <th>Activity_A_Complete</th>\n",
       "      <th>Activity_A_Concept</th>\n",
       "      <th>...</th>\n",
       "      <th>Accepted_nan</th>\n",
       "      <th>Selected_False</th>\n",
       "      <th>Selected_True</th>\n",
       "      <th>Selected_nan</th>\n",
       "      <th>RequestedAmount</th>\n",
       "      <th>FirstWithdrawalAmount</th>\n",
       "      <th>NumberOfTerms</th>\n",
       "      <th>MonthlyCost</th>\n",
       "      <th>CreditScore</th>\n",
       "      <th>OfferedAmount</th>\n",
       "    </tr>\n",
       "  </thead>\n",
       "  <tbody>\n",
       "    <tr>\n",
       "      <th>0</th>\n",
       "      <td>0</td>\n",
       "      <td>1.0</td>\n",
       "      <td>0.0</td>\n",
       "      <td>0.0</td>\n",
       "      <td>0.0</td>\n",
       "      <td>0.0</td>\n",
       "      <td>0.0</td>\n",
       "      <td>0.0</td>\n",
       "      <td>0.0</td>\n",
       "      <td>0.0</td>\n",
       "      <td>...</td>\n",
       "      <td>1.0</td>\n",
       "      <td>0.0</td>\n",
       "      <td>0.0</td>\n",
       "      <td>1.0</td>\n",
       "      <td>20000.0</td>\n",
       "      <td>0.0</td>\n",
       "      <td>0.0</td>\n",
       "      <td>0.0</td>\n",
       "      <td>0.0</td>\n",
       "      <td>0.0</td>\n",
       "    </tr>\n",
       "    <tr>\n",
       "      <th>1</th>\n",
       "      <td>0</td>\n",
       "      <td>0.0</td>\n",
       "      <td>0.0</td>\n",
       "      <td>0.0</td>\n",
       "      <td>0.0</td>\n",
       "      <td>1.0</td>\n",
       "      <td>0.0</td>\n",
       "      <td>0.0</td>\n",
       "      <td>0.0</td>\n",
       "      <td>0.0</td>\n",
       "      <td>...</td>\n",
       "      <td>1.0</td>\n",
       "      <td>0.0</td>\n",
       "      <td>0.0</td>\n",
       "      <td>1.0</td>\n",
       "      <td>20000.0</td>\n",
       "      <td>0.0</td>\n",
       "      <td>0.0</td>\n",
       "      <td>0.0</td>\n",
       "      <td>0.0</td>\n",
       "      <td>0.0</td>\n",
       "    </tr>\n",
       "    <tr>\n",
       "      <th>2</th>\n",
       "      <td>0</td>\n",
       "      <td>1.0</td>\n",
       "      <td>0.0</td>\n",
       "      <td>0.0</td>\n",
       "      <td>0.0</td>\n",
       "      <td>0.0</td>\n",
       "      <td>0.0</td>\n",
       "      <td>0.0</td>\n",
       "      <td>0.0</td>\n",
       "      <td>0.0</td>\n",
       "      <td>...</td>\n",
       "      <td>1.0</td>\n",
       "      <td>0.0</td>\n",
       "      <td>0.0</td>\n",
       "      <td>1.0</td>\n",
       "      <td>20000.0</td>\n",
       "      <td>0.0</td>\n",
       "      <td>0.0</td>\n",
       "      <td>0.0</td>\n",
       "      <td>0.0</td>\n",
       "      <td>0.0</td>\n",
       "    </tr>\n",
       "    <tr>\n",
       "      <th>3</th>\n",
       "      <td>0</td>\n",
       "      <td>0.0</td>\n",
       "      <td>1.0</td>\n",
       "      <td>0.0</td>\n",
       "      <td>0.0</td>\n",
       "      <td>0.0</td>\n",
       "      <td>0.0</td>\n",
       "      <td>0.0</td>\n",
       "      <td>0.0</td>\n",
       "      <td>0.0</td>\n",
       "      <td>...</td>\n",
       "      <td>1.0</td>\n",
       "      <td>0.0</td>\n",
       "      <td>0.0</td>\n",
       "      <td>1.0</td>\n",
       "      <td>20000.0</td>\n",
       "      <td>0.0</td>\n",
       "      <td>0.0</td>\n",
       "      <td>0.0</td>\n",
       "      <td>0.0</td>\n",
       "      <td>0.0</td>\n",
       "    </tr>\n",
       "    <tr>\n",
       "      <th>4</th>\n",
       "      <td>0</td>\n",
       "      <td>1.0</td>\n",
       "      <td>0.0</td>\n",
       "      <td>0.0</td>\n",
       "      <td>0.0</td>\n",
       "      <td>0.0</td>\n",
       "      <td>0.0</td>\n",
       "      <td>0.0</td>\n",
       "      <td>0.0</td>\n",
       "      <td>0.0</td>\n",
       "      <td>...</td>\n",
       "      <td>1.0</td>\n",
       "      <td>0.0</td>\n",
       "      <td>0.0</td>\n",
       "      <td>1.0</td>\n",
       "      <td>20000.0</td>\n",
       "      <td>0.0</td>\n",
       "      <td>0.0</td>\n",
       "      <td>0.0</td>\n",
       "      <td>0.0</td>\n",
       "      <td>0.0</td>\n",
       "    </tr>\n",
       "    <tr>\n",
       "      <th>...</th>\n",
       "      <td>...</td>\n",
       "      <td>...</td>\n",
       "      <td>...</td>\n",
       "      <td>...</td>\n",
       "      <td>...</td>\n",
       "      <td>...</td>\n",
       "      <td>...</td>\n",
       "      <td>...</td>\n",
       "      <td>...</td>\n",
       "      <td>...</td>\n",
       "      <td>...</td>\n",
       "      <td>...</td>\n",
       "      <td>...</td>\n",
       "      <td>...</td>\n",
       "      <td>...</td>\n",
       "      <td>...</td>\n",
       "      <td>...</td>\n",
       "      <td>...</td>\n",
       "      <td>...</td>\n",
       "      <td>...</td>\n",
       "      <td>...</td>\n",
       "    </tr>\n",
       "    <tr>\n",
       "      <th>1202262</th>\n",
       "      <td>31508</td>\n",
       "      <td>0.0</td>\n",
       "      <td>0.0</td>\n",
       "      <td>1.0</td>\n",
       "      <td>0.0</td>\n",
       "      <td>0.0</td>\n",
       "      <td>0.0</td>\n",
       "      <td>0.0</td>\n",
       "      <td>0.0</td>\n",
       "      <td>0.0</td>\n",
       "      <td>...</td>\n",
       "      <td>1.0</td>\n",
       "      <td>0.0</td>\n",
       "      <td>0.0</td>\n",
       "      <td>1.0</td>\n",
       "      <td>20000.0</td>\n",
       "      <td>0.0</td>\n",
       "      <td>0.0</td>\n",
       "      <td>0.0</td>\n",
       "      <td>0.0</td>\n",
       "      <td>0.0</td>\n",
       "    </tr>\n",
       "    <tr>\n",
       "      <th>1202263</th>\n",
       "      <td>31508</td>\n",
       "      <td>0.0</td>\n",
       "      <td>0.0</td>\n",
       "      <td>0.0</td>\n",
       "      <td>1.0</td>\n",
       "      <td>0.0</td>\n",
       "      <td>0.0</td>\n",
       "      <td>0.0</td>\n",
       "      <td>0.0</td>\n",
       "      <td>0.0</td>\n",
       "      <td>...</td>\n",
       "      <td>1.0</td>\n",
       "      <td>0.0</td>\n",
       "      <td>0.0</td>\n",
       "      <td>1.0</td>\n",
       "      <td>20000.0</td>\n",
       "      <td>0.0</td>\n",
       "      <td>0.0</td>\n",
       "      <td>0.0</td>\n",
       "      <td>0.0</td>\n",
       "      <td>0.0</td>\n",
       "    </tr>\n",
       "    <tr>\n",
       "      <th>1202264</th>\n",
       "      <td>31508</td>\n",
       "      <td>0.0</td>\n",
       "      <td>0.0</td>\n",
       "      <td>0.0</td>\n",
       "      <td>0.0</td>\n",
       "      <td>1.0</td>\n",
       "      <td>0.0</td>\n",
       "      <td>0.0</td>\n",
       "      <td>0.0</td>\n",
       "      <td>0.0</td>\n",
       "      <td>...</td>\n",
       "      <td>1.0</td>\n",
       "      <td>0.0</td>\n",
       "      <td>0.0</td>\n",
       "      <td>1.0</td>\n",
       "      <td>20000.0</td>\n",
       "      <td>0.0</td>\n",
       "      <td>0.0</td>\n",
       "      <td>0.0</td>\n",
       "      <td>0.0</td>\n",
       "      <td>0.0</td>\n",
       "    </tr>\n",
       "    <tr>\n",
       "      <th>1202265</th>\n",
       "      <td>31508</td>\n",
       "      <td>0.0</td>\n",
       "      <td>0.0</td>\n",
       "      <td>0.0</td>\n",
       "      <td>0.0</td>\n",
       "      <td>1.0</td>\n",
       "      <td>0.0</td>\n",
       "      <td>0.0</td>\n",
       "      <td>0.0</td>\n",
       "      <td>0.0</td>\n",
       "      <td>...</td>\n",
       "      <td>1.0</td>\n",
       "      <td>0.0</td>\n",
       "      <td>0.0</td>\n",
       "      <td>1.0</td>\n",
       "      <td>20000.0</td>\n",
       "      <td>0.0</td>\n",
       "      <td>0.0</td>\n",
       "      <td>0.0</td>\n",
       "      <td>0.0</td>\n",
       "      <td>0.0</td>\n",
       "    </tr>\n",
       "    <tr>\n",
       "      <th>1202266</th>\n",
       "      <td>31508</td>\n",
       "      <td>0.0</td>\n",
       "      <td>1.0</td>\n",
       "      <td>0.0</td>\n",
       "      <td>0.0</td>\n",
       "      <td>0.0</td>\n",
       "      <td>0.0</td>\n",
       "      <td>0.0</td>\n",
       "      <td>0.0</td>\n",
       "      <td>0.0</td>\n",
       "      <td>...</td>\n",
       "      <td>1.0</td>\n",
       "      <td>0.0</td>\n",
       "      <td>0.0</td>\n",
       "      <td>1.0</td>\n",
       "      <td>20000.0</td>\n",
       "      <td>0.0</td>\n",
       "      <td>0.0</td>\n",
       "      <td>0.0</td>\n",
       "      <td>0.0</td>\n",
       "      <td>0.0</td>\n",
       "    </tr>\n",
       "  </tbody>\n",
       "</table>\n",
       "<p>1202267 rows × 70 columns</p>\n",
       "</div>"
      ],
      "text/plain": [
       "         case:concept:name  Action_Created  Action_Deleted  Action_Obtained  \\\n",
       "0                        0             1.0             0.0              0.0   \n",
       "1                        0             0.0             0.0              0.0   \n",
       "2                        0             1.0             0.0              0.0   \n",
       "3                        0             0.0             1.0              0.0   \n",
       "4                        0             1.0             0.0              0.0   \n",
       "...                    ...             ...             ...              ...   \n",
       "1202262              31508             0.0             0.0              1.0   \n",
       "1202263              31508             0.0             0.0              0.0   \n",
       "1202264              31508             0.0             0.0              0.0   \n",
       "1202265              31508             0.0             0.0              0.0   \n",
       "1202266              31508             0.0             1.0              0.0   \n",
       "\n",
       "         Action_Released  Action_statechange  Activity_A_Accepted  \\\n",
       "0                    0.0                 0.0                  0.0   \n",
       "1                    0.0                 1.0                  0.0   \n",
       "2                    0.0                 0.0                  0.0   \n",
       "3                    0.0                 0.0                  0.0   \n",
       "4                    0.0                 0.0                  0.0   \n",
       "...                  ...                 ...                  ...   \n",
       "1202262              0.0                 0.0                  0.0   \n",
       "1202263              1.0                 0.0                  0.0   \n",
       "1202264              0.0                 1.0                  0.0   \n",
       "1202265              0.0                 1.0                  0.0   \n",
       "1202266              0.0                 0.0                  0.0   \n",
       "\n",
       "         Activity_A_Cancelled  Activity_A_Complete  Activity_A_Concept  ...  \\\n",
       "0                         0.0                  0.0                 0.0  ...   \n",
       "1                         0.0                  0.0                 0.0  ...   \n",
       "2                         0.0                  0.0                 0.0  ...   \n",
       "3                         0.0                  0.0                 0.0  ...   \n",
       "4                         0.0                  0.0                 0.0  ...   \n",
       "...                       ...                  ...                 ...  ...   \n",
       "1202262                   0.0                  0.0                 0.0  ...   \n",
       "1202263                   0.0                  0.0                 0.0  ...   \n",
       "1202264                   0.0                  0.0                 0.0  ...   \n",
       "1202265                   0.0                  0.0                 0.0  ...   \n",
       "1202266                   0.0                  0.0                 0.0  ...   \n",
       "\n",
       "         Accepted_nan  Selected_False  Selected_True  Selected_nan  \\\n",
       "0                 1.0             0.0            0.0           1.0   \n",
       "1                 1.0             0.0            0.0           1.0   \n",
       "2                 1.0             0.0            0.0           1.0   \n",
       "3                 1.0             0.0            0.0           1.0   \n",
       "4                 1.0             0.0            0.0           1.0   \n",
       "...               ...             ...            ...           ...   \n",
       "1202262           1.0             0.0            0.0           1.0   \n",
       "1202263           1.0             0.0            0.0           1.0   \n",
       "1202264           1.0             0.0            0.0           1.0   \n",
       "1202265           1.0             0.0            0.0           1.0   \n",
       "1202266           1.0             0.0            0.0           1.0   \n",
       "\n",
       "         RequestedAmount  FirstWithdrawalAmount  NumberOfTerms  MonthlyCost  \\\n",
       "0                20000.0                    0.0            0.0          0.0   \n",
       "1                20000.0                    0.0            0.0          0.0   \n",
       "2                20000.0                    0.0            0.0          0.0   \n",
       "3                20000.0                    0.0            0.0          0.0   \n",
       "4                20000.0                    0.0            0.0          0.0   \n",
       "...                  ...                    ...            ...          ...   \n",
       "1202262          20000.0                    0.0            0.0          0.0   \n",
       "1202263          20000.0                    0.0            0.0          0.0   \n",
       "1202264          20000.0                    0.0            0.0          0.0   \n",
       "1202265          20000.0                    0.0            0.0          0.0   \n",
       "1202266          20000.0                    0.0            0.0          0.0   \n",
       "\n",
       "         CreditScore  OfferedAmount  \n",
       "0                0.0            0.0  \n",
       "1                0.0            0.0  \n",
       "2                0.0            0.0  \n",
       "3                0.0            0.0  \n",
       "4                0.0            0.0  \n",
       "...              ...            ...  \n",
       "1202262          0.0            0.0  \n",
       "1202263          0.0            0.0  \n",
       "1202264          0.0            0.0  \n",
       "1202265          0.0            0.0  \n",
       "1202266          0.0            0.0  \n",
       "\n",
       "[1202267 rows x 70 columns]"
      ]
     },
     "execution_count": 18,
     "metadata": {},
     "output_type": "execute_result"
    }
   ],
   "source": [
    "df_final"
   ]
  },
  {
   "cell_type": "code",
   "execution_count": 19,
   "metadata": {
    "id": "kGGaoODjS9_j"
   },
   "outputs": [],
   "source": [
    "#This is how the DeepHit format expects the data to be formatted.\n",
    "\n",
    "label=data['label']\n",
    "\n",
    "tar=np.column_stack((duration, label))\n",
    "df_target= pd.DataFrame(data=tar, columns=['duration', 'event'])"
   ]
  },
  {
   "cell_type": "code",
   "execution_count": 24,
   "metadata": {
    "id": "r3ZKIzsRANOk"
   },
   "outputs": [],
   "source": [
    "#Split the data into train,test and validation gropus\n",
    "\n",
    "x= df_final\n",
    "y=df_target\n",
    "grouped = x.groupby('case:concept:name')\n",
    "\n",
    "# Initialize empty lists to store the split datasets\n",
    "x_train_list = []\n",
    "y_train_list = []\n",
    "x_val_list = []\n",
    "y_val_list = []\n",
    "x_test_list = []\n",
    "y_test_list = []\n",
    "\n",
    "# Iterate over the groups\n",
    "for user, group in grouped:\n",
    "  # Calculate the number of samples in each set\n",
    "  n = len(group)\n",
    "  tr_size = int(n * 0.60)  # 60% for training\n",
    "  vl_size = int(n * 0.20)  # 20% for validation\n",
    "  te_size = int(n * 0.20)  # 20% for test\n",
    "\n",
    "  # Split the group into training, validation, and test sets\n",
    "  x_train = group[:tr_size]\n",
    "  y_train = y[:tr_size]\n",
    "  x_val = group[tr_size:tr_size+vl_size]\n",
    "  y_val = y[tr_size:tr_size+vl_size]\n",
    "  x_test = group[-te_size:]\n",
    "  y_test = y[-te_size:]\n",
    "\n",
    "  # Append the split datasets to the list\n",
    "  x_train_list.append(x_train)\n",
    "  y_train_list.append(y_train)\n",
    "  x_val_list.append(x_val)\n",
    "  y_val_list.append(y_val)\n",
    "  x_test_list.append(x_test)\n",
    "  y_test_list.append(y_test)\n",
    "\n",
    "\n",
    "x_train = pd.concat(x_train_list)\n",
    "x_val = pd.concat(x_val_list)\n",
    "x_test = pd.concat(x_test_list)\n",
    "y_train = pd.concat(y_train_list)\n",
    "y_val = pd.concat(y_val_list)\n",
    "y_test = pd.concat(y_test_list)\n"
   ]
  },
  {
   "cell_type": "code",
   "execution_count": 25,
   "metadata": {},
   "outputs": [],
   "source": [
    "#Disacrd the case:conept:name column, as it's not a feature, per se.\n",
    "\n",
    "x_train = x_train.iloc[:, 1:]\n",
    "x_test = x_test.iloc[:, 1:]\n",
    "x_val = x_val.iloc[:, 1:]"
   ]
  },
  {
   "cell_type": "markdown",
   "metadata": {},
   "source": [
    "Format the data as required by DeepHit."
   ]
  },
  {
   "cell_type": "code",
   "execution_count": 29,
   "metadata": {},
   "outputs": [],
   "source": [
    "num_durations = 10\n",
    "labtrans = DeepHitSingle.label_transform(num_durations)\n",
    "get_target = lambda df: (df['duration'].values, df['event'].values)\n",
    "y_train = labtrans.fit_transform(*get_target(y_train))\n",
    "y_val = labtrans.transform(*get_target(y_val))\n"
   ]
  },
  {
   "cell_type": "code",
   "execution_count": 30,
   "metadata": {},
   "outputs": [],
   "source": [
    "x_train=x_train.values\n",
    "x_val=x_val.values\n",
    "x_test=x_test.values"
   ]
  },
  {
   "cell_type": "code",
   "execution_count": 31,
   "metadata": {},
   "outputs": [],
   "source": [
    "x_train = x_train.astype('float32')\n",
    "x_val = x_val.astype('float32')\n",
    "x_test = x_test.astype('float32')"
   ]
  },
  {
   "cell_type": "code",
   "execution_count": 32,
   "metadata": {},
   "outputs": [],
   "source": [
    "train = (x_train, y_train)\n",
    "val = (x_val, y_val)"
   ]
  },
  {
   "cell_type": "code",
   "execution_count": 33,
   "metadata": {},
   "outputs": [],
   "source": [
    "durations_test, events_test = get_target(y_test)"
   ]
  },
  {
   "cell_type": "markdown",
   "metadata": {},
   "source": [
    "Configuration & Modelling"
   ]
  },
  {
   "cell_type": "code",
   "execution_count": 34,
   "metadata": {},
   "outputs": [],
   "source": [
    "\n",
    "in_features = x_train.shape[1]\n",
    "num_nodes = [32, 32]\n",
    "out_features = labtrans.out_features\n",
    "batch_norm = True\n",
    "dropout = 0.1\n",
    "\n",
    "net = tt.practical.MLPVanilla(in_features, num_nodes, out_features, batch_norm, dropout)"
   ]
  },
  {
   "cell_type": "code",
   "execution_count": 35,
   "metadata": {},
   "outputs": [],
   "source": [
    "model = DeepHitSingle(net, tt.optim.Adam, alpha=0.2, sigma=0.1, duration_index=labtrans.cuts)"
   ]
  },
  {
   "cell_type": "code",
   "execution_count": 36,
   "metadata": {
    "id": "OKb_3R7SHGx2"
   },
   "outputs": [],
   "source": [
    "model.optimizer.set_lr(0.01)"
   ]
  },
  {
   "cell_type": "code",
   "execution_count": 37,
   "metadata": {
    "id": "nl9wMM8ZHGut"
   },
   "outputs": [
    {
     "name": "stdout",
     "output_type": "stream",
     "text": [
      "0:\t[47s / 47s],\t\ttrain_loss: 0.2398,\tval_loss: 0.2781\n",
      "1:\t[51s / 1m:39s],\t\ttrain_loss: 0.2350,\tval_loss: 0.2133\n",
      "2:\t[49s / 2m:28s],\t\ttrain_loss: 0.2327,\tval_loss: 0.2138\n",
      "3:\t[50s / 3m:19s],\t\ttrain_loss: 0.2327,\tval_loss: 0.2139\n",
      "4:\t[52s / 4m:12s],\t\ttrain_loss: 0.2329,\tval_loss: 0.2452\n",
      "5:\t[53s / 5m:5s],\t\ttrain_loss: 0.2320,\tval_loss: 2.2037\n",
      "6:\t[51s / 5m:57s],\t\ttrain_loss: 0.2318,\tval_loss: 0.2279\n",
      "7:\t[51s / 6m:48s],\t\ttrain_loss: 0.2316,\tval_loss: 0.2135\n",
      "8:\t[49s / 7m:38s],\t\ttrain_loss: 0.2332,\tval_loss: 0.2175\n",
      "9:\t[49s / 8m:27s],\t\ttrain_loss: 0.2331,\tval_loss: 0.2154\n",
      "10:\t[52s / 9m:20s],\t\ttrain_loss: 0.2318,\tval_loss: 0.2168\n",
      "11:\t[51s / 10m:11s],\t\ttrain_loss: 0.2317,\tval_loss: 0.2151\n"
     ]
    }
   ],
   "source": [
    "epochs = 100\n",
    "batch_size=64\n",
    "callbacks = [tt.callbacks.EarlyStopping()]\n",
    "log = model.fit(x_train, y_train, batch_size, epochs, callbacks, val_data=val)"
   ]
  },
  {
   "cell_type": "code",
   "execution_count": 38,
   "metadata": {},
   "outputs": [
    {
     "data": {
      "image/png": "[encoded data removed]",
      "text/plain": [
       "<Figure size 640x480 with 1 Axes>"
      ]
     },
     "metadata": {},
     "output_type": "display_data"
    }
   ],
   "source": [
    "_ = log.plot()"
   ]
  },
  {
   "cell_type": "markdown",
   "metadata": {},
   "source": [
    "Evaluation"
   ]
  },
  {
   "cell_type": "code",
   "execution_count": 39,
   "metadata": {},
   "outputs": [],
   "source": [
    "#Predict Surviavl times \n",
    "\n",
    "surv = model.predict_surv_df(x_test)"
   ]
  },
  {
   "cell_type": "code",
   "execution_count": 51,
   "metadata": {},
   "outputs": [
    {
     "data": {
      "image/png": "[encoded data removed]",
      "text/plain": [
       "<Figure size 640x480 with 1 Axes>"
      ]
     },
     "metadata": {},
     "output_type": "display_data"
    }
   ],
   "source": [
    "# Plot the Survival function against time\n",
    "\n",
    "surv.iloc[:5, 10000].plot(drawstyle='steps-post')\n",
    "plt.ylabel('S(t | x)')\n",
    "_ = plt.xlabel('Time')"
   ]
  },
  {
   "cell_type": "code",
   "execution_count": 44,
   "metadata": {},
   "outputs": [
    {
     "name": "stderr",
     "output_type": "stream",
     "text": [
      "C:\\Users\\Deepak\\anaconda3\\envs\\Deep_learning\\lib\\site-packages\\pycox\\evaluation\\eval_surv.py:36: FutureWarning: is_monotonic is deprecated and will be removed in a future version. Use is_monotonic_increasing instead.\n",
      "  assert pd.Series(self.index_surv).is_monotonic\n"
     ]
    }
   ],
   "source": [
    "ev = EvalSurv(surv.iloc[:, :30000], durations_test[:30000], events_test[:30000], censor_surv='km')"
   ]
  },
  {
   "cell_type": "code",
   "execution_count": 45,
   "metadata": {},
   "outputs": [
    {
     "data": {
      "text/plain": [
       "0.49947497424556575"
      ]
     },
     "execution_count": 45,
     "metadata": {},
     "output_type": "execute_result"
    }
   ],
   "source": [
    "ev.concordance_td()"
   ]
  },
  {
   "cell_type": "code",
   "execution_count": 46,
   "metadata": {},
   "outputs": [
    {
     "data": {
      "image/png": "[encoded data removed]",
      "text/plain": [
       "<Figure size 640x480 with 1 Axes>"
      ]
     },
     "metadata": {},
     "output_type": "display_data"
    }
   ],
   "source": [
    "time_grid = np.linspace(durations_test.min(),1000, 100)\n",
    "_ = ev.brier_score(time_grid).plot()"
   ]
  },
  {
   "cell_type": "code",
   "execution_count": 47,
   "metadata": {},
   "outputs": [
    {
     "data": {
      "text/plain": [
       "0.6815927101335166"
      ]
     },
     "execution_count": 47,
     "metadata": {},
     "output_type": "execute_result"
    }
   ],
   "source": [
    "ev.integrated_brier_score(time_grid)"
   ]
  },
  {
   "cell_type": "code",
   "execution_count": 48,
   "metadata": {},
   "outputs": [
    {
     "data": {
      "text/plain": [
       "2.6088567006447776"
      ]
     },
     "execution_count": 48,
     "metadata": {},
     "output_type": "execute_result"
    }
   ],
   "source": [
    "ev.integrated_nbll(time_grid)"
   ]
  }
 ],
 "metadata": {
  "colab": {
   "provenance": []
  },
  "kernelspec": {
   "display_name": "Python 3 (ipykernel)",
   "language": "python",
   "name": "python3"
  },
  "language_info": {
   "codemirror_mode": {
    "name": "ipython",
    "version": 3
   },
   "file_extension": ".py",
   "mimetype": "text/x-python",
   "name": "python",
   "nbconvert_exporter": "python",
   "pygments_lexer": "ipython3",
   "version": "3.9.15"
  }
 },
 "nbformat": 4,
 "nbformat_minor": 1
}
